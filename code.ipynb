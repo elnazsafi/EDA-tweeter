{
 "cells": [
  {
   "cell_type": "code",
   "execution_count": 3,
   "metadata": {},
   "outputs": [],
   "source": [
    "import pandas as pd\n",
    "import numpy as np\n",
    "import matplotlib.pyplot as plt\n",
    "import seaborn as sns"
   ]
  },
  {
   "cell_type": "code",
   "execution_count": 60,
   "metadata": {},
   "outputs": [],
   "source": [
    "df = pd.read_csv('Neet_tweet_data.csv')"
   ]
  },
  {
   "cell_type": "code",
   "execution_count": 5,
   "metadata": {},
   "outputs": [
    {
     "data": {
      "text/html": [
       "<div>\n",
       "<style scoped>\n",
       "    .dataframe tbody tr th:only-of-type {\n",
       "        vertical-align: middle;\n",
       "    }\n",
       "\n",
       "    .dataframe tbody tr th {\n",
       "        vertical-align: top;\n",
       "    }\n",
       "\n",
       "    .dataframe thead th {\n",
       "        text-align: right;\n",
       "    }\n",
       "</style>\n",
       "<table border=\"1\" class=\"dataframe\">\n",
       "  <thead>\n",
       "    <tr style=\"text-align: right;\">\n",
       "      <th></th>\n",
       "      <th>id</th>\n",
       "      <th>created_at</th>\n",
       "      <th>retweet_count</th>\n",
       "      <th>source</th>\n",
       "      <th>user_id</th>\n",
       "      <th>user_name</th>\n",
       "      <th>user_description</th>\n",
       "      <th>user_follower_count</th>\n",
       "      <th>user_friends_count</th>\n",
       "      <th>user_location</th>\n",
       "      <th>user_verified</th>\n",
       "      <th>user_url</th>\n",
       "      <th>tweet</th>\n",
       "      <th>length_of_tweet</th>\n",
       "    </tr>\n",
       "  </thead>\n",
       "  <tbody>\n",
       "    <tr>\n",
       "      <th>0</th>\n",
       "      <td>1321732330663243776</td>\n",
       "      <td>2020-10-29 08:35:18</td>\n",
       "      <td>0</td>\n",
       "      <td>Twitter Web App</td>\n",
       "      <td>1001422488486658049</td>\n",
       "      <td>catboy halloween ☆ comms 📌</td>\n",
       "      <td>peko|she/her|19, #CATBOYTIME\\nart: https://t.c...</td>\n",
       "      <td>345</td>\n",
       "      <td>259</td>\n",
       "      <td>Hong Kong</td>\n",
       "      <td>False</td>\n",
       "      <td>https://t.co/acmAF7eXsH</td>\n",
       "      <td>just want to be neet but society forces me to ...</td>\n",
       "      <td>59</td>\n",
       "    </tr>\n",
       "    <tr>\n",
       "      <th>1</th>\n",
       "      <td>1321731701819625472</td>\n",
       "      <td>2020-10-29 08:32:48</td>\n",
       "      <td>0</td>\n",
       "      <td>Twitter for Android</td>\n",
       "      <td>1265081263624462338</td>\n",
       "      <td>Karma // Shatakshi is ♥</td>\n",
       "      <td>low-key wanna unexist (she/her)</td>\n",
       "      <td>628</td>\n",
       "      <td>187</td>\n",
       "      <td>NaN</td>\n",
       "      <td>False</td>\n",
       "      <td>https://t.co/s4VcCgpngT</td>\n",
       "      <td>If only it was Shrey instead of Shoaib, everyo...</td>\n",
       "      <td>140</td>\n",
       "    </tr>\n",
       "    <tr>\n",
       "      <th>2</th>\n",
       "      <td>1321731682697793537</td>\n",
       "      <td>2020-10-29 08:32:44</td>\n",
       "      <td>0</td>\n",
       "      <td>Twitter Web App</td>\n",
       "      <td>1275442002516013056</td>\n",
       "      <td>浪人</td>\n",
       "      <td>WW ii veteran (Azad Hind) , Gold Nova II (retd...</td>\n",
       "      <td>46</td>\n",
       "      <td>92</td>\n",
       "      <td>San Andreas</td>\n",
       "      <td>False</td>\n",
       "      <td>NaN</td>\n",
       "      <td>@ShuchiRecites sure, ill just share it to my J...</td>\n",
       "      <td>81</td>\n",
       "    </tr>\n",
       "    <tr>\n",
       "      <th>3</th>\n",
       "      <td>1321731033176289281</td>\n",
       "      <td>2020-10-29 08:30:09</td>\n",
       "      <td>0</td>\n",
       "      <td>Twitter for Android</td>\n",
       "      <td>3850751173</td>\n",
       "      <td>Mahendra Singh</td>\n",
       "      <td>Cricket, movies and Running. \\nTax and Economi...</td>\n",
       "      <td>46</td>\n",
       "      <td>338</td>\n",
       "      <td>New Delhi</td>\n",
       "      <td>False</td>\n",
       "      <td>NaN</td>\n",
       "      <td>@samipmohan Absolutely. The ranking is as per ...</td>\n",
       "      <td>130</td>\n",
       "    </tr>\n",
       "    <tr>\n",
       "      <th>4</th>\n",
       "      <td>1321731005875716096</td>\n",
       "      <td>2020-10-29 08:30:03</td>\n",
       "      <td>0</td>\n",
       "      <td>SocialFlow</td>\n",
       "      <td>20751449</td>\n",
       "      <td>The Hindu</td>\n",
       "      <td>News feeds from India's National Newspaper</td>\n",
       "      <td>6490559</td>\n",
       "      <td>206</td>\n",
       "      <td>Chennai, India</td>\n",
       "      <td>True</td>\n",
       "      <td>http://t.co/s1JTQu1K46</td>\n",
       "      <td>In the light of the doubts cast over the evalu...</td>\n",
       "      <td>140</td>\n",
       "    </tr>\n",
       "  </tbody>\n",
       "</table>\n",
       "</div>"
      ],
      "text/plain": [
       "                    id           created_at  retweet_count  \\\n",
       "0  1321732330663243776  2020-10-29 08:35:18              0   \n",
       "1  1321731701819625472  2020-10-29 08:32:48              0   \n",
       "2  1321731682697793537  2020-10-29 08:32:44              0   \n",
       "3  1321731033176289281  2020-10-29 08:30:09              0   \n",
       "4  1321731005875716096  2020-10-29 08:30:03              0   \n",
       "\n",
       "                source              user_id                   user_name  \\\n",
       "0      Twitter Web App  1001422488486658049  catboy halloween ☆ comms 📌   \n",
       "1  Twitter for Android  1265081263624462338     Karma // Shatakshi is ♥   \n",
       "2      Twitter Web App  1275442002516013056                          浪人   \n",
       "3  Twitter for Android           3850751173              Mahendra Singh   \n",
       "4           SocialFlow             20751449                   The Hindu   \n",
       "\n",
       "                                    user_description  user_follower_count  \\\n",
       "0  peko|she/her|19, #CATBOYTIME\\nart: https://t.c...                  345   \n",
       "1                    low-key wanna unexist (she/her)                  628   \n",
       "2  WW ii veteran (Azad Hind) , Gold Nova II (retd...                   46   \n",
       "3  Cricket, movies and Running. \\nTax and Economi...                   46   \n",
       "4         News feeds from India's National Newspaper              6490559   \n",
       "\n",
       "   user_friends_count   user_location  user_verified                 user_url  \\\n",
       "0                 259       Hong Kong          False  https://t.co/acmAF7eXsH   \n",
       "1                 187             NaN          False  https://t.co/s4VcCgpngT   \n",
       "2                  92     San Andreas          False                      NaN   \n",
       "3                 338       New Delhi          False                      NaN   \n",
       "4                 206  Chennai, India           True   http://t.co/s1JTQu1K46   \n",
       "\n",
       "                                               tweet  length_of_tweet  \n",
       "0  just want to be neet but society forces me to ...               59  \n",
       "1  If only it was Shrey instead of Shoaib, everyo...              140  \n",
       "2  @ShuchiRecites sure, ill just share it to my J...               81  \n",
       "3  @samipmohan Absolutely. The ranking is as per ...              130  \n",
       "4  In the light of the doubts cast over the evalu...              140  "
      ]
     },
     "execution_count": 5,
     "metadata": {},
     "output_type": "execute_result"
    }
   ],
   "source": [
    "df.head()"
   ]
  },
  {
   "cell_type": "code",
   "execution_count": 6,
   "metadata": {},
   "outputs": [
    {
     "data": {
      "text/html": [
       "<div>\n",
       "<style scoped>\n",
       "    .dataframe tbody tr th:only-of-type {\n",
       "        vertical-align: middle;\n",
       "    }\n",
       "\n",
       "    .dataframe tbody tr th {\n",
       "        vertical-align: top;\n",
       "    }\n",
       "\n",
       "    .dataframe thead th {\n",
       "        text-align: right;\n",
       "    }\n",
       "</style>\n",
       "<table border=\"1\" class=\"dataframe\">\n",
       "  <thead>\n",
       "    <tr style=\"text-align: right;\">\n",
       "      <th></th>\n",
       "      <th>id</th>\n",
       "      <th>created_at</th>\n",
       "      <th>retweet_count</th>\n",
       "      <th>source</th>\n",
       "      <th>user_id</th>\n",
       "      <th>user_name</th>\n",
       "      <th>user_description</th>\n",
       "      <th>user_follower_count</th>\n",
       "      <th>user_friends_count</th>\n",
       "      <th>user_location</th>\n",
       "      <th>user_verified</th>\n",
       "      <th>user_url</th>\n",
       "      <th>tweet</th>\n",
       "      <th>length_of_tweet</th>\n",
       "    </tr>\n",
       "  </thead>\n",
       "  <tbody>\n",
       "    <tr>\n",
       "      <th>245</th>\n",
       "      <td>1321663943253790720</td>\n",
       "      <td>2020-10-29 04:03:34</td>\n",
       "      <td>0</td>\n",
       "      <td>twittbot.net</td>\n",
       "      <td>1577531275</td>\n",
       "      <td>MOVED</td>\n",
       "      <td>At @dareal_momo mostly here for hte memories. ...</td>\n",
       "      <td>197</td>\n",
       "      <td>95</td>\n",
       "      <td>THIS IS BASICALLY A BOT</td>\n",
       "      <td>False</td>\n",
       "      <td>NaN</td>\n",
       "      <td>and then theres my bro the neet #MomoBot</td>\n",
       "      <td>40</td>\n",
       "    </tr>\n",
       "    <tr>\n",
       "      <th>246</th>\n",
       "      <td>1321663737082728449</td>\n",
       "      <td>2020-10-29 04:02:44</td>\n",
       "      <td>0</td>\n",
       "      <td>Twitter Web App</td>\n",
       "      <td>933551882072502273</td>\n",
       "      <td>LARS MEDICARE</td>\n",
       "      <td>Lars Medicare Pvt. Ltd. is a #Medical #Disposa...</td>\n",
       "      <td>77</td>\n",
       "      <td>437</td>\n",
       "      <td>New Delhi, India</td>\n",
       "      <td>False</td>\n",
       "      <td>https://t.co/vcQIJRGPBs</td>\n",
       "      <td>3 Ply Face Masks, manufactured by Lars Medicar...</td>\n",
       "      <td>136</td>\n",
       "    </tr>\n",
       "    <tr>\n",
       "      <th>247</th>\n",
       "      <td>1321663457419145216</td>\n",
       "      <td>2020-10-29 04:01:38</td>\n",
       "      <td>0</td>\n",
       "      <td>Twitter for Android</td>\n",
       "      <td>1151158596719149057</td>\n",
       "      <td>Ashish Yadav</td>\n",
       "      <td>still I m exploring myself☺☺☺</td>\n",
       "      <td>15</td>\n",
       "      <td>25</td>\n",
       "      <td>NaN</td>\n",
       "      <td>False</td>\n",
       "      <td>NaN</td>\n",
       "      <td>@Ashutos30017552 @CMOfficeUP @myogiadityanath ...</td>\n",
       "      <td>106</td>\n",
       "    </tr>\n",
       "    <tr>\n",
       "      <th>248</th>\n",
       "      <td>1321661405150371840</td>\n",
       "      <td>2020-10-29 03:53:28</td>\n",
       "      <td>0</td>\n",
       "      <td>Twitter Web App</td>\n",
       "      <td>1053949760686571520</td>\n",
       "      <td>realinclusiveindian</td>\n",
       "      <td>indian</td>\n",
       "      <td>120</td>\n",
       "      <td>463</td>\n",
       "      <td>Dreamland.</td>\n",
       "      <td>False</td>\n",
       "      <td>NaN</td>\n",
       "      <td>@ANINewsUP Dhongi yogi has not gone any school...</td>\n",
       "      <td>92</td>\n",
       "    </tr>\n",
       "    <tr>\n",
       "      <th>249</th>\n",
       "      <td>1321661007501033473</td>\n",
       "      <td>2020-10-29 03:51:54</td>\n",
       "      <td>0</td>\n",
       "      <td>Twitter for Android</td>\n",
       "      <td>113083643</td>\n",
       "      <td>रात का सैनिटाइजर- डोगा</td>\n",
       "      <td>Alter ego Inspector Suraj !!!  \\nRetweets = no...</td>\n",
       "      <td>2603</td>\n",
       "      <td>87</td>\n",
       "      <td>Akhand Bharat</td>\n",
       "      <td>False</td>\n",
       "      <td>https://t.co/7xgVO53z0y</td>\n",
       "      <td>@ashishattri201 I'm neither, I'm a teacher. I ...</td>\n",
       "      <td>75</td>\n",
       "    </tr>\n",
       "  </tbody>\n",
       "</table>\n",
       "</div>"
      ],
      "text/plain": [
       "                      id           created_at  retweet_count  \\\n",
       "245  1321663943253790720  2020-10-29 04:03:34              0   \n",
       "246  1321663737082728449  2020-10-29 04:02:44              0   \n",
       "247  1321663457419145216  2020-10-29 04:01:38              0   \n",
       "248  1321661405150371840  2020-10-29 03:53:28              0   \n",
       "249  1321661007501033473  2020-10-29 03:51:54              0   \n",
       "\n",
       "                  source              user_id               user_name  \\\n",
       "245         twittbot.net           1577531275                   MOVED   \n",
       "246      Twitter Web App   933551882072502273           LARS MEDICARE   \n",
       "247  Twitter for Android  1151158596719149057            Ashish Yadav   \n",
       "248      Twitter Web App  1053949760686571520     realinclusiveindian   \n",
       "249  Twitter for Android            113083643  रात का सैनिटाइजर- डोगा   \n",
       "\n",
       "                                      user_description  user_follower_count  \\\n",
       "245  At @dareal_momo mostly here for hte memories. ...                  197   \n",
       "246  Lars Medicare Pvt. Ltd. is a #Medical #Disposa...                   77   \n",
       "247                      still I m exploring myself☺☺☺                   15   \n",
       "248                                             indian                  120   \n",
       "249  Alter ego Inspector Suraj !!!  \\nRetweets = no...                 2603   \n",
       "\n",
       "     user_friends_count            user_location  user_verified  \\\n",
       "245                  95  THIS IS BASICALLY A BOT          False   \n",
       "246                 437         New Delhi, India          False   \n",
       "247                  25                      NaN          False   \n",
       "248                 463               Dreamland.          False   \n",
       "249                  87            Akhand Bharat          False   \n",
       "\n",
       "                    user_url  \\\n",
       "245                      NaN   \n",
       "246  https://t.co/vcQIJRGPBs   \n",
       "247                      NaN   \n",
       "248                      NaN   \n",
       "249  https://t.co/7xgVO53z0y   \n",
       "\n",
       "                                                 tweet  length_of_tweet  \n",
       "245           and then theres my bro the neet #MomoBot               40  \n",
       "246  3 Ply Face Masks, manufactured by Lars Medicar...              136  \n",
       "247  @Ashutos30017552 @CMOfficeUP @myogiadityanath ...              106  \n",
       "248  @ANINewsUP Dhongi yogi has not gone any school...               92  \n",
       "249  @ashishattri201 I'm neither, I'm a teacher. I ...               75  "
      ]
     },
     "execution_count": 6,
     "metadata": {},
     "output_type": "execute_result"
    }
   ],
   "source": [
    "df.tail()"
   ]
  },
  {
   "cell_type": "code",
   "execution_count": 7,
   "metadata": {},
   "outputs": [
    {
     "data": {
      "text/html": [
       "<div>\n",
       "<style scoped>\n",
       "    .dataframe tbody tr th:only-of-type {\n",
       "        vertical-align: middle;\n",
       "    }\n",
       "\n",
       "    .dataframe tbody tr th {\n",
       "        vertical-align: top;\n",
       "    }\n",
       "\n",
       "    .dataframe thead th {\n",
       "        text-align: right;\n",
       "    }\n",
       "</style>\n",
       "<table border=\"1\" class=\"dataframe\">\n",
       "  <thead>\n",
       "    <tr style=\"text-align: right;\">\n",
       "      <th></th>\n",
       "      <th>id</th>\n",
       "      <th>created_at</th>\n",
       "      <th>retweet_count</th>\n",
       "      <th>source</th>\n",
       "      <th>user_id</th>\n",
       "      <th>user_name</th>\n",
       "      <th>user_description</th>\n",
       "      <th>user_follower_count</th>\n",
       "      <th>user_friends_count</th>\n",
       "      <th>user_location</th>\n",
       "      <th>user_verified</th>\n",
       "      <th>user_url</th>\n",
       "      <th>tweet</th>\n",
       "      <th>length_of_tweet</th>\n",
       "    </tr>\n",
       "  </thead>\n",
       "  <tbody>\n",
       "    <tr>\n",
       "      <th>28</th>\n",
       "      <td>1321723448658259969</td>\n",
       "      <td>2020-10-29 08:00:01</td>\n",
       "      <td>102</td>\n",
       "      <td>TweetDeck</td>\n",
       "      <td>74980737</td>\n",
       "      <td>OpIndia.com</td>\n",
       "      <td>News and opinions website, bringing the right ...</td>\n",
       "      <td>470719</td>\n",
       "      <td>128</td>\n",
       "      <td>New Delhi</td>\n",
       "      <td>True</td>\n",
       "      <td>https://t.co/61RZ89DYwJ</td>\n",
       "      <td>Yogi Adityanath asks chief secretary to write ...</td>\n",
       "      <td>140</td>\n",
       "    </tr>\n",
       "    <tr>\n",
       "      <th>105</th>\n",
       "      <td>1321703229449592832</td>\n",
       "      <td>2020-10-29 06:39:40</td>\n",
       "      <td>0</td>\n",
       "      <td>Twitter Web App</td>\n",
       "      <td>1179372728056348672</td>\n",
       "      <td>dam | gayass prime</td>\n",
       "      <td>dameron / he/him, transboy, minor / it smells ...</td>\n",
       "      <td>253</td>\n",
       "      <td>183</td>\n",
       "      <td>NaN</td>\n",
       "      <td>False</td>\n",
       "      <td>https://t.co/Jc53iwnfhR</td>\n",
       "      <td>@neet_ryu thank you!</td>\n",
       "      <td>20</td>\n",
       "    </tr>\n",
       "    <tr>\n",
       "      <th>144</th>\n",
       "      <td>1321691213716598784</td>\n",
       "      <td>2020-10-29 05:51:55</td>\n",
       "      <td>0</td>\n",
       "      <td>Twitter Web App</td>\n",
       "      <td>1065594827960655874</td>\n",
       "      <td>KAILASH PRAKASHAN</td>\n",
       "      <td>Fast Forward is a leading company which is pro...</td>\n",
       "      <td>1</td>\n",
       "      <td>0</td>\n",
       "      <td>NaN</td>\n",
       "      <td>False</td>\n",
       "      <td>NaN</td>\n",
       "      <td>Need Quick Revisions!!!! Go for NEET/ JEE Fast...</td>\n",
       "      <td>140</td>\n",
       "    </tr>\n",
       "    <tr>\n",
       "      <th>132</th>\n",
       "      <td>1321695252021878789</td>\n",
       "      <td>2020-10-29 06:07:58</td>\n",
       "      <td>1</td>\n",
       "      <td>Twitter Web App</td>\n",
       "      <td>1014050465821089793</td>\n",
       "      <td>MedExams Prep</td>\n",
       "      <td>We are a Team of Highly Dedicated Medical Prof...</td>\n",
       "      <td>342</td>\n",
       "      <td>1258</td>\n",
       "      <td>New Delhi, India</td>\n",
       "      <td>False</td>\n",
       "      <td>https://t.co/b2MTeCW57s</td>\n",
       "      <td>NEET PG / FMGE 2021\\nhttps://t.co/DBfVH3uRAV\\n...</td>\n",
       "      <td>140</td>\n",
       "    </tr>\n",
       "    <tr>\n",
       "      <th>6</th>\n",
       "      <td>1321730907548639232</td>\n",
       "      <td>2020-10-29 08:29:39</td>\n",
       "      <td>0</td>\n",
       "      <td>Twitter for Android</td>\n",
       "      <td>1094035528113160193</td>\n",
       "      <td>david 🏹</td>\n",
       "      <td>my name is david (he/him) im 22 i write stuff\\...</td>\n",
       "      <td>415</td>\n",
       "      <td>552</td>\n",
       "      <td>da deep end</td>\n",
       "      <td>False</td>\n",
       "      <td>https://t.co/ZAJ1Mfs0Ic</td>\n",
       "      <td>@percneet Gn Neet</td>\n",
       "      <td>17</td>\n",
       "    </tr>\n",
       "  </tbody>\n",
       "</table>\n",
       "</div>"
      ],
      "text/plain": [
       "                      id           created_at  retweet_count  \\\n",
       "28   1321723448658259969  2020-10-29 08:00:01            102   \n",
       "105  1321703229449592832  2020-10-29 06:39:40              0   \n",
       "144  1321691213716598784  2020-10-29 05:51:55              0   \n",
       "132  1321695252021878789  2020-10-29 06:07:58              1   \n",
       "6    1321730907548639232  2020-10-29 08:29:39              0   \n",
       "\n",
       "                  source              user_id           user_name  \\\n",
       "28             TweetDeck             74980737         OpIndia.com   \n",
       "105      Twitter Web App  1179372728056348672  dam | gayass prime   \n",
       "144      Twitter Web App  1065594827960655874   KAILASH PRAKASHAN   \n",
       "132      Twitter Web App  1014050465821089793       MedExams Prep   \n",
       "6    Twitter for Android  1094035528113160193             david 🏹   \n",
       "\n",
       "                                      user_description  user_follower_count  \\\n",
       "28   News and opinions website, bringing the right ...               470719   \n",
       "105  dameron / he/him, transboy, minor / it smells ...                  253   \n",
       "144  Fast Forward is a leading company which is pro...                    1   \n",
       "132  We are a Team of Highly Dedicated Medical Prof...                  342   \n",
       "6    my name is david (he/him) im 22 i write stuff\\...                  415   \n",
       "\n",
       "     user_friends_count     user_location  user_verified  \\\n",
       "28                  128         New Delhi           True   \n",
       "105                 183               NaN          False   \n",
       "144                   0               NaN          False   \n",
       "132                1258  New Delhi, India          False   \n",
       "6                   552       da deep end          False   \n",
       "\n",
       "                    user_url  \\\n",
       "28   https://t.co/61RZ89DYwJ   \n",
       "105  https://t.co/Jc53iwnfhR   \n",
       "144                      NaN   \n",
       "132  https://t.co/b2MTeCW57s   \n",
       "6    https://t.co/ZAJ1Mfs0Ic   \n",
       "\n",
       "                                                 tweet  length_of_tweet  \n",
       "28   Yogi Adityanath asks chief secretary to write ...              140  \n",
       "105                               @neet_ryu thank you!               20  \n",
       "144  Need Quick Revisions!!!! Go for NEET/ JEE Fast...              140  \n",
       "132  NEET PG / FMGE 2021\\nhttps://t.co/DBfVH3uRAV\\n...              140  \n",
       "6                                    @percneet Gn Neet               17  "
      ]
     },
     "execution_count": 7,
     "metadata": {},
     "output_type": "execute_result"
    }
   ],
   "source": [
    "#random 5 rows\n",
    "df.sample(5)"
   ]
  },
  {
   "cell_type": "code",
   "execution_count": 10,
   "metadata": {},
   "outputs": [
    {
     "name": "stdout",
     "output_type": "stream",
     "text": [
      "shape of the dataframe:  (250, 14)\n"
     ]
    }
   ],
   "source": [
    "print ('shape of the dataframe: ', df.shape)"
   ]
  },
  {
   "cell_type": "code",
   "execution_count": 12,
   "metadata": {},
   "outputs": [
    {
     "name": "stdout",
     "output_type": "stream",
     "text": [
      "Column names: \n",
      " -------------------------\n",
      "Index(['id', 'created_at', 'retweet_count', 'source', 'user_id', 'user_name',\n",
      "       'user_description', 'user_follower_count', 'user_friends_count',\n",
      "       'user_location', 'user_verified', 'user_url', 'tweet',\n",
      "       'length_of_tweet'],\n",
      "      dtype='object')\n"
     ]
    }
   ],
   "source": [
    "print('Column names: \\n', '-'*25)\n",
    "print(df.columns)"
   ]
  },
  {
   "cell_type": "code",
   "execution_count": 15,
   "metadata": {},
   "outputs": [
    {
     "name": "stdout",
     "output_type": "stream",
     "text": [
      "Unique values in every column \n",
      "-------------------------\n",
      "\tid = 250\n",
      "\tcreated_at = 245\n",
      "\tretweet_count = 11\n",
      "\tsource = 13\n",
      "\tuser_id = 218\n",
      "\tuser_name = 218\n",
      "\tuser_description = 182\n",
      "\tuser_follower_count = 155\n",
      "\tuser_friends_count = 168\n",
      "\tuser_location = 106\n",
      "\tuser_verified = 2\n",
      "\tuser_url = 82\n",
      "\ttweet = 250\n",
      "\tlength_of_tweet = 80\n"
     ]
    }
   ],
   "source": [
    "print(\"Unique values in every column \\n\"+'-'*25)\n",
    "for i in df.columns:\n",
    "    print('\\t'+i+' =', len(set(df[i])))"
   ]
  },
  {
   "cell_type": "code",
   "execution_count": 16,
   "metadata": {},
   "outputs": [
    {
     "data": {
      "text/html": [
       "<div>\n",
       "<style scoped>\n",
       "    .dataframe tbody tr th:only-of-type {\n",
       "        vertical-align: middle;\n",
       "    }\n",
       "\n",
       "    .dataframe tbody tr th {\n",
       "        vertical-align: top;\n",
       "    }\n",
       "\n",
       "    .dataframe thead th {\n",
       "        text-align: right;\n",
       "    }\n",
       "</style>\n",
       "<table border=\"1\" class=\"dataframe\">\n",
       "  <thead>\n",
       "    <tr style=\"text-align: right;\">\n",
       "      <th></th>\n",
       "      <th>id</th>\n",
       "      <th>retweet_count</th>\n",
       "      <th>user_id</th>\n",
       "      <th>user_follower_count</th>\n",
       "      <th>user_friends_count</th>\n",
       "      <th>length_of_tweet</th>\n",
       "    </tr>\n",
       "  </thead>\n",
       "  <tbody>\n",
       "    <tr>\n",
       "      <th>count</th>\n",
       "      <td>2.500000e+02</td>\n",
       "      <td>250.000000</td>\n",
       "      <td>2.500000e+02</td>\n",
       "      <td>2.500000e+02</td>\n",
       "      <td>250.000000</td>\n",
       "      <td>250.000000</td>\n",
       "    </tr>\n",
       "    <tr>\n",
       "      <th>mean</th>\n",
       "      <td>1.321697e+18</td>\n",
       "      <td>0.904000</td>\n",
       "      <td>8.069079e+17</td>\n",
       "      <td>4.358490e+04</td>\n",
       "      <td>445.260000</td>\n",
       "      <td>109.516000</td>\n",
       "    </tr>\n",
       "    <tr>\n",
       "      <th>std</th>\n",
       "      <td>2.016668e+13</td>\n",
       "      <td>6.915931</td>\n",
       "      <td>5.475582e+17</td>\n",
       "      <td>4.651832e+05</td>\n",
       "      <td>971.268057</td>\n",
       "      <td>43.180411</td>\n",
       "    </tr>\n",
       "    <tr>\n",
       "      <th>min</th>\n",
       "      <td>1.321661e+18</td>\n",
       "      <td>0.000000</td>\n",
       "      <td>1.504224e+07</td>\n",
       "      <td>0.000000e+00</td>\n",
       "      <td>0.000000</td>\n",
       "      <td>4.000000</td>\n",
       "    </tr>\n",
       "    <tr>\n",
       "      <th>25%</th>\n",
       "      <td>1.321679e+18</td>\n",
       "      <td>0.000000</td>\n",
       "      <td>2.943044e+09</td>\n",
       "      <td>1.500000e+01</td>\n",
       "      <td>29.000000</td>\n",
       "      <td>77.000000</td>\n",
       "    </tr>\n",
       "    <tr>\n",
       "      <th>50%</th>\n",
       "      <td>1.321697e+18</td>\n",
       "      <td>0.000000</td>\n",
       "      <td>1.065839e+18</td>\n",
       "      <td>1.265000e+02</td>\n",
       "      <td>154.000000</td>\n",
       "      <td>139.000000</td>\n",
       "    </tr>\n",
       "    <tr>\n",
       "      <th>75%</th>\n",
       "      <td>1.321714e+18</td>\n",
       "      <td>0.000000</td>\n",
       "      <td>1.270722e+18</td>\n",
       "      <td>5.060000e+02</td>\n",
       "      <td>422.750000</td>\n",
       "      <td>140.000000</td>\n",
       "    </tr>\n",
       "    <tr>\n",
       "      <th>max</th>\n",
       "      <td>1.321732e+18</td>\n",
       "      <td>102.000000</td>\n",
       "      <td>1.321689e+18</td>\n",
       "      <td>6.490559e+06</td>\n",
       "      <td>9533.000000</td>\n",
       "      <td>144.000000</td>\n",
       "    </tr>\n",
       "  </tbody>\n",
       "</table>\n",
       "</div>"
      ],
      "text/plain": [
       "                 id  retweet_count       user_id  user_follower_count  \\\n",
       "count  2.500000e+02     250.000000  2.500000e+02         2.500000e+02   \n",
       "mean   1.321697e+18       0.904000  8.069079e+17         4.358490e+04   \n",
       "std    2.016668e+13       6.915931  5.475582e+17         4.651832e+05   \n",
       "min    1.321661e+18       0.000000  1.504224e+07         0.000000e+00   \n",
       "25%    1.321679e+18       0.000000  2.943044e+09         1.500000e+01   \n",
       "50%    1.321697e+18       0.000000  1.065839e+18         1.265000e+02   \n",
       "75%    1.321714e+18       0.000000  1.270722e+18         5.060000e+02   \n",
       "max    1.321732e+18     102.000000  1.321689e+18         6.490559e+06   \n",
       "\n",
       "       user_friends_count  length_of_tweet  \n",
       "count          250.000000       250.000000  \n",
       "mean           445.260000       109.516000  \n",
       "std            971.268057        43.180411  \n",
       "min              0.000000         4.000000  \n",
       "25%             29.000000        77.000000  \n",
       "50%            154.000000       139.000000  \n",
       "75%            422.750000       140.000000  \n",
       "max           9533.000000       144.000000  "
      ]
     },
     "execution_count": 16,
     "metadata": {},
     "output_type": "execute_result"
    }
   ],
   "source": [
    "df.describe()"
   ]
  },
  {
   "cell_type": "code",
   "execution_count": 17,
   "metadata": {},
   "outputs": [
    {
     "name": "stdout",
     "output_type": "stream",
     "text": [
      "<class 'pandas.core.frame.DataFrame'>\n",
      "RangeIndex: 250 entries, 0 to 249\n",
      "Data columns (total 14 columns):\n",
      " #   Column               Non-Null Count  Dtype \n",
      "---  ------               --------------  ----- \n",
      " 0   id                   250 non-null    int64 \n",
      " 1   created_at           250 non-null    object\n",
      " 2   retweet_count        250 non-null    int64 \n",
      " 3   source               250 non-null    object\n",
      " 4   user_id              250 non-null    int64 \n",
      " 5   user_name            250 non-null    object\n",
      " 6   user_description     208 non-null    object\n",
      " 7   user_follower_count  250 non-null    int64 \n",
      " 8   user_friends_count   250 non-null    int64 \n",
      " 9   user_location        160 non-null    object\n",
      " 10  user_verified        250 non-null    bool  \n",
      " 11  user_url             97 non-null     object\n",
      " 12  tweet                250 non-null    object\n",
      " 13  length_of_tweet      250 non-null    int64 \n",
      "dtypes: bool(1), int64(6), object(7)\n",
      "memory usage: 25.8+ KB\n"
     ]
    }
   ],
   "source": [
    "df.info()"
   ]
  },
  {
   "cell_type": "code",
   "execution_count": 18,
   "metadata": {},
   "outputs": [
    {
     "data": {
      "text/plain": [
       "id                       0\n",
       "created_at               0\n",
       "retweet_count            0\n",
       "source                   0\n",
       "user_id                  0\n",
       "user_name                0\n",
       "user_description        42\n",
       "user_follower_count      0\n",
       "user_friends_count       0\n",
       "user_location           90\n",
       "user_verified            0\n",
       "user_url               153\n",
       "tweet                    0\n",
       "length_of_tweet          0\n",
       "dtype: int64"
      ]
     },
     "execution_count": 18,
     "metadata": {},
     "output_type": "execute_result"
    }
   ],
   "source": [
    "df.isnull().sum()"
   ]
  },
  {
   "cell_type": "code",
   "execution_count": 35,
   "metadata": {},
   "outputs": [
    {
     "data": {
      "text/plain": [
       "(array([ 0,  1,  2,  3,  4,  5,  6,  7,  8,  9, 10, 11, 12, 13]),\n",
       " <a list of 14 Text xticklabel objects>)"
      ]
     },
     "execution_count": 35,
     "metadata": {},
     "output_type": "execute_result"
    },
    {
     "data": {
      "image/png": "[encoded data removed]",
      "text/plain": [
       "<Figure size 1008x360 with 3 Axes>"
      ]
     },
     "metadata": {
      "needs_background": "light"
     },
     "output_type": "display_data"
    }
   ],
   "source": [
    "nullCount = ((df.isna().sum() / df.shape[0])* 100).reset_index().rename(columns = {\"index\": \"Columns\", 0: \"missing value percentage\"})\n",
    "fig, axes = plt.subplots(1,2, figsize=(14,5))\n",
    "plt.suptitle('Missing value percentage', size = 18)\n",
    "sns.heatmap(df.isna(), ax=axes[0])\n",
    "sns.barplot(nullCount['Columns'], nullCount['missing value percentage'], ax=axes[1])\n",
    "plt.xticks(rotation=90)"
   ]
  },
  {
   "cell_type": "code",
   "execution_count": 36,
   "metadata": {},
   "outputs": [],
   "source": [
    "df['user_location'].fillna('India', inplace = True)"
   ]
  },
  {
   "cell_type": "code",
   "execution_count": 37,
   "metadata": {},
   "outputs": [],
   "source": [
    "df['user_description'].fillna('No Description', inplace=True)"
   ]
  },
  {
   "cell_type": "code",
   "execution_count": 38,
   "metadata": {},
   "outputs": [
    {
     "data": {
      "text/plain": [
       "id                       0\n",
       "created_at               0\n",
       "retweet_count            0\n",
       "source                   0\n",
       "user_id                  0\n",
       "user_name                0\n",
       "user_description         0\n",
       "user_follower_count      0\n",
       "user_friends_count       0\n",
       "user_location            0\n",
       "user_verified            0\n",
       "user_url               153\n",
       "tweet                    0\n",
       "length_of_tweet          0\n",
       "dtype: int64"
      ]
     },
     "execution_count": 38,
     "metadata": {},
     "output_type": "execute_result"
    }
   ],
   "source": [
    "df.isnull().sum()"
   ]
  },
  {
   "cell_type": "code",
   "execution_count": 39,
   "metadata": {},
   "outputs": [
    {
     "data": {
      "text/plain": [
       "(array([1, 2, 3, 4, 5, 6, 7]), <a list of 7 Text xticklabel objects>)"
      ]
     },
     "execution_count": 39,
     "metadata": {},
     "output_type": "execute_result"
    },
    {
     "data": {
      "image/png": "[encoded data removed]",
      "text/plain": [
       "<Figure size 432x288 with 1 Axes>"
      ]
     },
     "metadata": {
      "needs_background": "light"
     },
     "output_type": "display_data"
    }
   ],
   "source": [
    "df.boxplot()\n",
    "plt.xticks(rotation = 90)"
   ]
  },
  {
   "cell_type": "code",
   "execution_count": 43,
   "metadata": {},
   "outputs": [],
   "source": [
    "df.drop('user_url', axis=1, inplace=True)"
   ]
  },
  {
   "cell_type": "code",
   "execution_count": 62,
   "metadata": {},
   "outputs": [
    {
     "data": {
      "text/plain": [
       "(250, 250, 250, 250)"
      ]
     },
     "execution_count": 62,
     "metadata": {},
     "output_type": "execute_result"
    }
   ],
   "source": [
    "hashtags = []\n",
    "hashtags_count = []\n",
    "person_tags = []\n",
    "person_tags_count = []\n",
    "for sen in df['tweet']:\n",
    "    hashes = []\n",
    "    tags = []\n",
    "    sen_list = sen.split(' ')\n",
    "    for word in sen_list:\n",
    "        if len(word)>1:\n",
    "            if word[0]=='#':\n",
    "                hashes.append(word)\n",
    "            if word[0]=='@':\n",
    "                tags.append(word)\n",
    "    hashtags.append(tuple(hashes))#converted to tuple as tuple is a hashable object\n",
    "    person_tags.append(tuple(tags))\n",
    "    hashtags_count.append(len(hashes))\n",
    "    person_tags_count.append(len(tags))\n",
    "      \n",
    "len(person_tags),len(hashtags),len(hashtags_count),len(person_tags_count)"
   ]
  },
  {
   "cell_type": "code",
   "execution_count": 63,
   "metadata": {},
   "outputs": [
    {
     "data": {
      "text/html": [
       "<div>\n",
       "<style scoped>\n",
       "    .dataframe tbody tr th:only-of-type {\n",
       "        vertical-align: middle;\n",
       "    }\n",
       "\n",
       "    .dataframe tbody tr th {\n",
       "        vertical-align: top;\n",
       "    }\n",
       "\n",
       "    .dataframe thead th {\n",
       "        text-align: right;\n",
       "    }\n",
       "</style>\n",
       "<table border=\"1\" class=\"dataframe\">\n",
       "  <thead>\n",
       "    <tr style=\"text-align: right;\">\n",
       "      <th></th>\n",
       "      <th>id</th>\n",
       "      <th>created_at</th>\n",
       "      <th>retweet_count</th>\n",
       "      <th>source</th>\n",
       "      <th>user_id</th>\n",
       "      <th>user_name</th>\n",
       "      <th>user_description</th>\n",
       "      <th>user_follower_count</th>\n",
       "      <th>user_friends_count</th>\n",
       "      <th>user_location</th>\n",
       "      <th>user_verified</th>\n",
       "      <th>user_url</th>\n",
       "      <th>tweet</th>\n",
       "      <th>length_of_tweet</th>\n",
       "      <th>tagged_persons</th>\n",
       "      <th>hashtags</th>\n",
       "      <th>hashtags_count</th>\n",
       "      <th>tagged_persons_count</th>\n",
       "    </tr>\n",
       "  </thead>\n",
       "  <tbody>\n",
       "    <tr>\n",
       "      <th>0</th>\n",
       "      <td>1321732330663243776</td>\n",
       "      <td>2020-10-29 08:35:18</td>\n",
       "      <td>0</td>\n",
       "      <td>Twitter Web App</td>\n",
       "      <td>1001422488486658049</td>\n",
       "      <td>catboy halloween ☆ comms 📌</td>\n",
       "      <td>peko|she/her|19, #CATBOYTIME\\nart: https://t.c...</td>\n",
       "      <td>345</td>\n",
       "      <td>259</td>\n",
       "      <td>Hong Kong</td>\n",
       "      <td>False</td>\n",
       "      <td>https://t.co/acmAF7eXsH</td>\n",
       "      <td>just want to be neet but society forces me to ...</td>\n",
       "      <td>59</td>\n",
       "      <td>()</td>\n",
       "      <td>()</td>\n",
       "      <td>0</td>\n",
       "      <td>0</td>\n",
       "    </tr>\n",
       "    <tr>\n",
       "      <th>1</th>\n",
       "      <td>1321731701819625472</td>\n",
       "      <td>2020-10-29 08:32:48</td>\n",
       "      <td>0</td>\n",
       "      <td>Twitter for Android</td>\n",
       "      <td>1265081263624462338</td>\n",
       "      <td>Karma // Shatakshi is ♥</td>\n",
       "      <td>low-key wanna unexist (she/her)</td>\n",
       "      <td>628</td>\n",
       "      <td>187</td>\n",
       "      <td>NaN</td>\n",
       "      <td>False</td>\n",
       "      <td>https://t.co/s4VcCgpngT</td>\n",
       "      <td>If only it was Shrey instead of Shoaib, everyo...</td>\n",
       "      <td>140</td>\n",
       "      <td>()</td>\n",
       "      <td>()</td>\n",
       "      <td>0</td>\n",
       "      <td>0</td>\n",
       "    </tr>\n",
       "    <tr>\n",
       "      <th>2</th>\n",
       "      <td>1321731682697793537</td>\n",
       "      <td>2020-10-29 08:32:44</td>\n",
       "      <td>0</td>\n",
       "      <td>Twitter Web App</td>\n",
       "      <td>1275442002516013056</td>\n",
       "      <td>浪人</td>\n",
       "      <td>WW ii veteran (Azad Hind) , Gold Nova II (retd...</td>\n",
       "      <td>46</td>\n",
       "      <td>92</td>\n",
       "      <td>San Andreas</td>\n",
       "      <td>False</td>\n",
       "      <td>NaN</td>\n",
       "      <td>@ShuchiRecites sure, ill just share it to my J...</td>\n",
       "      <td>81</td>\n",
       "      <td>(@ShuchiRecites,)</td>\n",
       "      <td>()</td>\n",
       "      <td>0</td>\n",
       "      <td>1</td>\n",
       "    </tr>\n",
       "    <tr>\n",
       "      <th>3</th>\n",
       "      <td>1321731033176289281</td>\n",
       "      <td>2020-10-29 08:30:09</td>\n",
       "      <td>0</td>\n",
       "      <td>Twitter for Android</td>\n",
       "      <td>3850751173</td>\n",
       "      <td>Mahendra Singh</td>\n",
       "      <td>Cricket, movies and Running. \\nTax and Economi...</td>\n",
       "      <td>46</td>\n",
       "      <td>338</td>\n",
       "      <td>New Delhi</td>\n",
       "      <td>False</td>\n",
       "      <td>NaN</td>\n",
       "      <td>@samipmohan Absolutely. The ranking is as per ...</td>\n",
       "      <td>130</td>\n",
       "      <td>(@samipmohan,)</td>\n",
       "      <td>()</td>\n",
       "      <td>0</td>\n",
       "      <td>1</td>\n",
       "    </tr>\n",
       "    <tr>\n",
       "      <th>4</th>\n",
       "      <td>1321731005875716096</td>\n",
       "      <td>2020-10-29 08:30:03</td>\n",
       "      <td>0</td>\n",
       "      <td>SocialFlow</td>\n",
       "      <td>20751449</td>\n",
       "      <td>The Hindu</td>\n",
       "      <td>News feeds from India's National Newspaper</td>\n",
       "      <td>6490559</td>\n",
       "      <td>206</td>\n",
       "      <td>Chennai, India</td>\n",
       "      <td>True</td>\n",
       "      <td>http://t.co/s1JTQu1K46</td>\n",
       "      <td>In the light of the doubts cast over the evalu...</td>\n",
       "      <td>140</td>\n",
       "      <td>()</td>\n",
       "      <td>()</td>\n",
       "      <td>0</td>\n",
       "      <td>0</td>\n",
       "    </tr>\n",
       "  </tbody>\n",
       "</table>\n",
       "</div>"
      ],
      "text/plain": [
       "                    id           created_at  retweet_count  \\\n",
       "0  1321732330663243776  2020-10-29 08:35:18              0   \n",
       "1  1321731701819625472  2020-10-29 08:32:48              0   \n",
       "2  1321731682697793537  2020-10-29 08:32:44              0   \n",
       "3  1321731033176289281  2020-10-29 08:30:09              0   \n",
       "4  1321731005875716096  2020-10-29 08:30:03              0   \n",
       "\n",
       "                source              user_id                   user_name  \\\n",
       "0      Twitter Web App  1001422488486658049  catboy halloween ☆ comms 📌   \n",
       "1  Twitter for Android  1265081263624462338     Karma // Shatakshi is ♥   \n",
       "2      Twitter Web App  1275442002516013056                          浪人   \n",
       "3  Twitter for Android           3850751173              Mahendra Singh   \n",
       "4           SocialFlow             20751449                   The Hindu   \n",
       "\n",
       "                                    user_description  user_follower_count  \\\n",
       "0  peko|she/her|19, #CATBOYTIME\\nart: https://t.c...                  345   \n",
       "1                    low-key wanna unexist (she/her)                  628   \n",
       "2  WW ii veteran (Azad Hind) , Gold Nova II (retd...                   46   \n",
       "3  Cricket, movies and Running. \\nTax and Economi...                   46   \n",
       "4         News feeds from India's National Newspaper              6490559   \n",
       "\n",
       "   user_friends_count   user_location  user_verified                 user_url  \\\n",
       "0                 259       Hong Kong          False  https://t.co/acmAF7eXsH   \n",
       "1                 187             NaN          False  https://t.co/s4VcCgpngT   \n",
       "2                  92     San Andreas          False                      NaN   \n",
       "3                 338       New Delhi          False                      NaN   \n",
       "4                 206  Chennai, India           True   http://t.co/s1JTQu1K46   \n",
       "\n",
       "                                               tweet  length_of_tweet  \\\n",
       "0  just want to be neet but society forces me to ...               59   \n",
       "1  If only it was Shrey instead of Shoaib, everyo...              140   \n",
       "2  @ShuchiRecites sure, ill just share it to my J...               81   \n",
       "3  @samipmohan Absolutely. The ranking is as per ...              130   \n",
       "4  In the light of the doubts cast over the evalu...              140   \n",
       "\n",
       "      tagged_persons hashtags  hashtags_count  tagged_persons_count  \n",
       "0                 ()       ()               0                     0  \n",
       "1                 ()       ()               0                     0  \n",
       "2  (@ShuchiRecites,)       ()               0                     1  \n",
       "3     (@samipmohan,)       ()               0                     1  \n",
       "4                 ()       ()               0                     0  "
      ]
     },
     "execution_count": 63,
     "metadata": {},
     "output_type": "execute_result"
    }
   ],
   "source": [
    "df['tagged_persons'] = tuple(person_tags)\n",
    "df['hashtags'] = tuple(hashtags)\n",
    "df['hashtags_count'] = hashtags_count\n",
    "df['tagged_persons_count'] = person_tags_count\n",
    "df.head(5)"
   ]
  },
  {
   "cell_type": "code",
   "execution_count": 64,
   "metadata": {},
   "outputs": [
    {
     "data": {
      "image/png": "[encoded data removed]",
      "text/plain": [
       "<Figure size 1008x360 with 1 Axes>"
      ]
     },
     "metadata": {
      "needs_background": "light"
     },
     "output_type": "display_data"
    }
   ],
   "source": [
    "hashData = df.hashtags.value_counts()[1:8].reset_index()\n",
    "fig,axes = plt.subplots(1,1,figsize=(14,5))\n",
    "plt.suptitle(\"Trending Hashtags Used\",fontsize=18)\n",
    "sns.barplot(data = hashData , y='index',x='hashtags')\n",
    "plt.show()"
   ]
  },
  {
   "cell_type": "code",
   "execution_count": 66,
   "metadata": {},
   "outputs": [
    {
     "data": {
      "image/png": "[encoded data removed]",
      "text/plain": [
       "<Figure size 1008x360 with 1 Axes>"
      ]
     },
     "metadata": {
      "needs_background": "light"
     },
     "output_type": "display_data"
    },
    {
     "data": {
      "text/plain": [
       "Index(['id', 'created_at', 'retweet_count', 'source', 'user_id', 'user_name',\n",
       "       'user_description', 'user_follower_count', 'user_friends_count',\n",
       "       'user_location', 'user_verified', 'user_url', 'tweet',\n",
       "       'length_of_tweet', 'tagged_persons', 'hashtags', 'hashtags_count',\n",
       "       'tagged_persons_count'],\n",
       "      dtype='object')"
      ]
     },
     "execution_count": 66,
     "metadata": {},
     "output_type": "execute_result"
    }
   ],
   "source": [
    "tagData = df.tagged_persons.value_counts()[1:8].reset_index()\n",
    "fig,axes = plt.subplots(1,1,figsize=(14,5))\n",
    "plt.suptitle(\"Most Tagged Persons\",fontsize=18)\n",
    "sns.barplot(data = tagData , y='index',x='tagged_persons')\n",
    "plt.show()\n"
   ]
  },
  {
   "cell_type": "code",
   "execution_count": 69,
   "metadata": {},
   "outputs": [
    {
     "name": "stderr",
     "output_type": "stream",
     "text": [
      "C:\\Users\\elnaz\\anaconda3\\lib\\site-packages\\matplotlib\\backends\\backend_agg.py:211: RuntimeWarning: Glyph 55358 missing from current font.\n",
      "  font.set_text(s, 0.0, flags=flags)\n",
      "C:\\Users\\elnaz\\anaconda3\\lib\\site-packages\\matplotlib\\backends\\backend_agg.py:211: RuntimeWarning: Glyph 56595 missing from current font.\n",
      "  font.set_text(s, 0.0, flags=flags)\n",
      "C:\\Users\\elnaz\\anaconda3\\lib\\site-packages\\matplotlib\\backends\\backend_agg.py:180: RuntimeWarning: Glyph 55358 missing from current font.\n",
      "  font.set_text(s, 0, flags=flags)\n",
      "C:\\Users\\elnaz\\anaconda3\\lib\\site-packages\\matplotlib\\backends\\backend_agg.py:180: RuntimeWarning: Glyph 56595 missing from current font.\n",
      "  font.set_text(s, 0, flags=flags)\n"
     ]
    },
    {
     "data": {
      "image/png": "[encoded data removed]",
      "text/plain": [
       "<Figure size 1008x360 with 2 Axes>"
      ]
     },
     "metadata": {
      "needs_background": "light"
     },
     "output_type": "display_data"
    }
   ],
   "source": [
    "df1 = df.user_location.value_counts()[:7].reset_index()\n",
    "fig,axes = plt.subplots(1,2,figsize=(14,5))\n",
    "plt.suptitle(\"Most Common Locations \",fontsize=18)\n",
    "sns.lineplot(x=df1[\"index\"], y = df1[\"user_location\"],ax=axes[1]) \n",
    "sns.barplot(y=df1[\"index\"], x = df1[\"user_location\"],ax=axes[0]) \n",
    "plt.xticks(rotation=90)\n",
    "plt.show()"
   ]
  },
  {
   "cell_type": "code",
   "execution_count": null,
   "metadata": {},
   "outputs": [],
   "source": []
  },
  {
   "cell_type": "code",
   "execution_count": 70,
   "metadata": {},
   "outputs": [
    {
     "data": {
      "image/png": "[encoded data removed]",
      "text/plain": [
       "<Figure size 1008x360 with 2 Axes>"
      ]
     },
     "metadata": {
      "needs_background": "light"
     },
     "output_type": "display_data"
    }
   ],
   "source": [
    "fig,axes = plt.subplots(1,2,figsize=(14,5))\n",
    "plt.suptitle(\"Verified Users \",fontsize=18)\n",
    "explode = (0.4, 0)\n",
    "sns.countplot(df[\"user_verified\"],ax=axes[1])\n",
    "df[\"user_verified\"].value_counts().plot.pie(explode=explode,shadow=True, startangle=90,ax=axes[0])\n",
    "plt.show()"
   ]
  },
  {
   "cell_type": "code",
   "execution_count": null,
   "metadata": {},
   "outputs": [],
   "source": []
  }
 ],
 "metadata": {
  "kernelspec": {
   "display_name": "Python 3",
   "language": "python",
   "name": "python3"
  },
  "language_info": {
   "codemirror_mode": {
    "name": "ipython",
    "version": 3
   },
   "file_extension": ".py",
   "mimetype": "text/x-python",
   "name": "python",
   "nbconvert_exporter": "python",
   "pygments_lexer": "ipython3",
   "version": "3.7.6"
  }
 },
 "nbformat": 4,
 "nbformat_minor": 4
}
